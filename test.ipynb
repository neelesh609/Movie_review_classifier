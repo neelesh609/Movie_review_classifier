{
 "cells": [
  {
   "cell_type": "code",
   "execution_count": 150,
   "outputs": [],
   "source": [
    "import numpy as np\n",
    "import pandas as pd\n",
    "import matplotlib.pyplot as plt\n",
    "import operator\n",
    "import tkinter as tk\n",
    "from tkinter import *\n",
    "from sklearn.feature_extraction.text import TfidfVectorizer\n",
    "from sklearn.naive_bayes import MultinomialNB\n",
    "from sklearn.svm import LinearSVC\n",
    "from sklearn.ensemble import RandomForestClassifier\n",
    "from sklearn.metrics import accuracy_score\n",
    "from sklearn.metrics import mean_squared_error\n",
    "\n",
    "import time"
   ],
   "metadata": {
    "collapsed": false,
    "pycharm": {
     "name": "#%%\n"
    }
   }
  },
  {
   "cell_type": "code",
   "execution_count": 151,
   "outputs": [],
   "source": [
    "train_data = pd.read_csv(\"D:\\\\project data mining\\\\train.csv\")\n",
    "test_data = pd.read_csv(\"D:\\\\project data mining\\\\test.csv\")\n",
    "\n",
    "movie_data = [train_data,test_data]\n",
    "final_data = pd.concat(movie_data)\n",
    "\n",
    "split_1 = int(0.8 * len(final_data))\n",
    "split_2 = int(0.9 * len(final_data))\n",
    "train_data = final_data[:split_1]\n",
    "dev_data = final_data[split_1:split_2]\n",
    "test_data = final_data[split_2:]\n"
   ],
   "metadata": {
    "collapsed": false,
    "pycharm": {
     "name": "#%%\n"
    }
   }
  },
  {
   "cell_type": "code",
   "execution_count": 152,
   "outputs": [
    {
     "data": {
      "text/plain": "<bound method DataFrame.info of                                                     text sentiment\n0      Now, I won't deny that when I purchased this o...       neg\n1      The saddest thing about this \"tribute\" is that...       neg\n2      Last night I decided to watch the prequel or s...       neg\n3      I have to admit that i liked the first half of...       neg\n4      I was not impressed about this film especially...       neg\n...                                                  ...       ...\n14995  Reading through most of the other reviews, I t...       neg\n14996  Like many western Pennsylvania history buffs, ...       neg\n14997  For all its wonderful images, for all of its g...       neg\n14998  Hadn't really heard too much about this movie ...       neg\n14999  This is definitely an excellent show. I don't ...       pos\n\n[40000 rows x 2 columns]>"
     },
     "execution_count": 152,
     "metadata": {},
     "output_type": "execute_result"
    }
   ],
   "source": [
    "train_data.info"
   ],
   "metadata": {
    "collapsed": false,
    "pycharm": {
     "name": "#%%\n"
    }
   }
  },
  {
   "cell_type": "code",
   "execution_count": 153,
   "outputs": [
    {
     "data": {
      "text/plain": "<bound method DataFrame.info of                                                     text sentiment\n20000  This movie is not a remake of She's all That (...       neg\n20001  Theres not much you can really say about this ...       neg\n20002  Admittedly, there are some scenes in this movi...       pos\n20003  Diane Lane, Mickey Rourke, Rosario Dawson & Th...       neg\n20004  A rather disappointing film. The club scenes w...       neg\n...                                                  ...       ...\n24995  For one thing, he produced this movie. It has ...       neg\n24996  The title comes from an alteration an adolesce...       pos\n24997  Christopher Nolan's first film is a 'no budget...       pos\n24998  The story is shortly about the faith-lacking b...       neg\n24999  I found parts of this movie rather slow, espec...       pos\n\n[5000 rows x 2 columns]>"
     },
     "execution_count": 153,
     "metadata": {},
     "output_type": "execute_result"
    }
   ],
   "source": [
    "test_data.info"
   ],
   "metadata": {
    "collapsed": false,
    "pycharm": {
     "name": "#%%\n"
    }
   }
  },
  {
   "cell_type": "code",
   "execution_count": 154,
   "outputs": [
    {
     "data": {
      "text/plain": "<bound method DataFrame.info of                                                     text sentiment\n15000  This movie is a gay love story disguised as a ...       neg\n15001  This is one of my all time favourites. All the...       pos\n15002  I was on a British Airways flight from London ...       neg\n15003  Pink Flamingos: A Representation of Society's ...       pos\n15004  OK, so this film is well acted. It has good di...       neg\n...                                                  ...       ...\n19995  (This might have a spoiler)<br /><br />When I ...       neg\n19996  Thats what this movie really takes. A big piec...       neg\n19997  If you like bad movies (and you must to watch ...       neg\n19998  This movie deserved better. Mike Judge's satir...       pos\n19999  i watched it because my friend said we could t...       pos\n\n[5000 rows x 2 columns]>"
     },
     "execution_count": 154,
     "metadata": {},
     "output_type": "execute_result"
    }
   ],
   "source": [
    "dev_data.info"
   ],
   "metadata": {
    "collapsed": false,
    "pycharm": {
     "name": "#%%\n"
    }
   }
  },
  {
   "cell_type": "code",
   "execution_count": 155,
   "outputs": [
    {
     "data": {
      "text/plain": "                                                text sentiment\n0  Now, I won't deny that when I purchased this o...       neg\n1  The saddest thing about this \"tribute\" is that...       neg\n2  Last night I decided to watch the prequel or s...       neg\n3  I have to admit that i liked the first half of...       neg\n4  I was not impressed about this film especially...       neg",
      "text/html": "<div>\n<style scoped>\n    .dataframe tbody tr th:only-of-type {\n        vertical-align: middle;\n    }\n\n    .dataframe tbody tr th {\n        vertical-align: top;\n    }\n\n    .dataframe thead th {\n        text-align: right;\n    }\n</style>\n<table border=\"1\" class=\"dataframe\">\n  <thead>\n    <tr style=\"text-align: right;\">\n      <th></th>\n      <th>text</th>\n      <th>sentiment</th>\n    </tr>\n  </thead>\n  <tbody>\n    <tr>\n      <th>0</th>\n      <td>Now, I won't deny that when I purchased this o...</td>\n      <td>neg</td>\n    </tr>\n    <tr>\n      <th>1</th>\n      <td>The saddest thing about this \"tribute\" is that...</td>\n      <td>neg</td>\n    </tr>\n    <tr>\n      <th>2</th>\n      <td>Last night I decided to watch the prequel or s...</td>\n      <td>neg</td>\n    </tr>\n    <tr>\n      <th>3</th>\n      <td>I have to admit that i liked the first half of...</td>\n      <td>neg</td>\n    </tr>\n    <tr>\n      <th>4</th>\n      <td>I was not impressed about this film especially...</td>\n      <td>neg</td>\n    </tr>\n  </tbody>\n</table>\n</div>"
     },
     "execution_count": 155,
     "metadata": {},
     "output_type": "execute_result"
    }
   ],
   "source": [
    "train_data.head(5)"
   ],
   "metadata": {
    "collapsed": false,
    "pycharm": {
     "name": "#%%\n"
    }
   }
  },
  {
   "cell_type": "code",
   "execution_count": 156,
   "outputs": [
    {
     "data": {
      "text/plain": "                                                    text sentiment\n20000  This movie is not a remake of She's all That (...       neg\n20001  Theres not much you can really say about this ...       neg\n20002  Admittedly, there are some scenes in this movi...       pos\n20003  Diane Lane, Mickey Rourke, Rosario Dawson & Th...       neg\n20004  A rather disappointing film. The club scenes w...       neg",
      "text/html": "<div>\n<style scoped>\n    .dataframe tbody tr th:only-of-type {\n        vertical-align: middle;\n    }\n\n    .dataframe tbody tr th {\n        vertical-align: top;\n    }\n\n    .dataframe thead th {\n        text-align: right;\n    }\n</style>\n<table border=\"1\" class=\"dataframe\">\n  <thead>\n    <tr style=\"text-align: right;\">\n      <th></th>\n      <th>text</th>\n      <th>sentiment</th>\n    </tr>\n  </thead>\n  <tbody>\n    <tr>\n      <th>20000</th>\n      <td>This movie is not a remake of She's all That (...</td>\n      <td>neg</td>\n    </tr>\n    <tr>\n      <th>20001</th>\n      <td>Theres not much you can really say about this ...</td>\n      <td>neg</td>\n    </tr>\n    <tr>\n      <th>20002</th>\n      <td>Admittedly, there are some scenes in this movi...</td>\n      <td>pos</td>\n    </tr>\n    <tr>\n      <th>20003</th>\n      <td>Diane Lane, Mickey Rourke, Rosario Dawson &amp; Th...</td>\n      <td>neg</td>\n    </tr>\n    <tr>\n      <th>20004</th>\n      <td>A rather disappointing film. The club scenes w...</td>\n      <td>neg</td>\n    </tr>\n  </tbody>\n</table>\n</div>"
     },
     "execution_count": 156,
     "metadata": {},
     "output_type": "execute_result"
    }
   ],
   "source": [
    "test_data.head(5)"
   ],
   "metadata": {
    "collapsed": false,
    "pycharm": {
     "name": "#%%\n"
    }
   }
  },
  {
   "cell_type": "code",
   "execution_count": 157,
   "outputs": [
    {
     "data": {
      "text/plain": "                                                    text sentiment\n15000  This movie is a gay love story disguised as a ...       neg\n15001  This is one of my all time favourites. All the...       pos\n15002  I was on a British Airways flight from London ...       neg\n15003  Pink Flamingos: A Representation of Society's ...       pos\n15004  OK, so this film is well acted. It has good di...       neg",
      "text/html": "<div>\n<style scoped>\n    .dataframe tbody tr th:only-of-type {\n        vertical-align: middle;\n    }\n\n    .dataframe tbody tr th {\n        vertical-align: top;\n    }\n\n    .dataframe thead th {\n        text-align: right;\n    }\n</style>\n<table border=\"1\" class=\"dataframe\">\n  <thead>\n    <tr style=\"text-align: right;\">\n      <th></th>\n      <th>text</th>\n      <th>sentiment</th>\n    </tr>\n  </thead>\n  <tbody>\n    <tr>\n      <th>15000</th>\n      <td>This movie is a gay love story disguised as a ...</td>\n      <td>neg</td>\n    </tr>\n    <tr>\n      <th>15001</th>\n      <td>This is one of my all time favourites. All the...</td>\n      <td>pos</td>\n    </tr>\n    <tr>\n      <th>15002</th>\n      <td>I was on a British Airways flight from London ...</td>\n      <td>neg</td>\n    </tr>\n    <tr>\n      <th>15003</th>\n      <td>Pink Flamingos: A Representation of Society's ...</td>\n      <td>pos</td>\n    </tr>\n    <tr>\n      <th>15004</th>\n      <td>OK, so this film is well acted. It has good di...</td>\n      <td>neg</td>\n    </tr>\n  </tbody>\n</table>\n</div>"
     },
     "execution_count": 157,
     "metadata": {},
     "output_type": "execute_result"
    }
   ],
   "source": [
    "dev_data.head(5)"
   ],
   "metadata": {
    "collapsed": false,
    "pycharm": {
     "name": "#%%\n"
    }
   }
  },
  {
   "cell_type": "code",
   "execution_count": 158,
   "outputs": [
    {
     "name": "stderr",
     "output_type": "stream",
     "text": [
      "<ipython-input-158-d6dcc58f8bb7>:8: SettingWithCopyWarning: \n",
      "A value is trying to be set on a copy of a slice from a DataFrame.\n",
      "Try using .loc[row_indexer,col_indexer] = value instead\n",
      "\n",
      "See the caveats in the documentation: https://pandas.pydata.org/pandas-docs/stable/user_guide/indexing.html#returning-a-view-versus-a-copy\n",
      "  train_data[\"sentiment_int\"] = sentiment_int\n",
      "<ipython-input-158-d6dcc58f8bb7>:18: SettingWithCopyWarning: \n",
      "A value is trying to be set on a copy of a slice from a DataFrame.\n",
      "Try using .loc[row_indexer,col_indexer] = value instead\n",
      "\n",
      "See the caveats in the documentation: https://pandas.pydata.org/pandas-docs/stable/user_guide/indexing.html#returning-a-view-versus-a-copy\n",
      "  test_data[\"sentiment_int\"] = sentiment_int\n",
      "<ipython-input-158-d6dcc58f8bb7>:28: SettingWithCopyWarning: \n",
      "A value is trying to be set on a copy of a slice from a DataFrame.\n",
      "Try using .loc[row_indexer,col_indexer] = value instead\n",
      "\n",
      "See the caveats in the documentation: https://pandas.pydata.org/pandas-docs/stable/user_guide/indexing.html#returning-a-view-versus-a-copy\n",
      "  dev_data[\"sentiment_int\"] = sentiment_int\n"
     ]
    }
   ],
   "source": [
    "sentiment_int = []\n",
    "for index, row  in train_data.iterrows():\n",
    "    if row['sentiment'] == 'pos':\n",
    "        sentiment_int.append(1)\n",
    "    else:\n",
    "        sentiment_int.append(0)\n",
    "\n",
    "train_data[\"sentiment_int\"] = sentiment_int\n",
    "\n",
    "\n",
    "sentiment_int = []\n",
    "for index, row  in test_data.iterrows():\n",
    "    if row['sentiment'] == 'pos':\n",
    "        sentiment_int.append(1)\n",
    "    else:\n",
    "        sentiment_int.append(0)\n",
    "\n",
    "test_data[\"sentiment_int\"] = sentiment_int\n",
    "\n",
    "\n",
    "sentiment_int = []\n",
    "for index, row  in dev_data.iterrows():\n",
    "    if row['sentiment'] == 'pos':\n",
    "        sentiment_int.append(1)\n",
    "    else:\n",
    "        sentiment_int.append(0)\n",
    "\n",
    "dev_data[\"sentiment_int\"] = sentiment_int"
   ],
   "metadata": {
    "collapsed": false,
    "pycharm": {
     "name": "#%%\n"
    }
   }
  },
  {
   "cell_type": "code",
   "execution_count": 159,
   "outputs": [
    {
     "data": {
      "text/plain": "                                                text sentiment  sentiment_int\n0  Now, I won't deny that when I purchased this o...       neg              0\n1  The saddest thing about this \"tribute\" is that...       neg              0\n2  Last night I decided to watch the prequel or s...       neg              0\n3  I have to admit that i liked the first half of...       neg              0\n4  I was not impressed about this film especially...       neg              0\n5  The original movie, The Odd Couple, has some w...       pos              1\n6  This was a great movie with a good cast, all o...       pos              1\n7  I'm a sucker for a good romance, but this one ...       neg              0\n8  Fast-paced, funny, sexy, and spectacular. Cagn...       pos              1\n9  The proverb \"Never judge a book by it's cover\"...       neg              0",
      "text/html": "<div>\n<style scoped>\n    .dataframe tbody tr th:only-of-type {\n        vertical-align: middle;\n    }\n\n    .dataframe tbody tr th {\n        vertical-align: top;\n    }\n\n    .dataframe thead th {\n        text-align: right;\n    }\n</style>\n<table border=\"1\" class=\"dataframe\">\n  <thead>\n    <tr style=\"text-align: right;\">\n      <th></th>\n      <th>text</th>\n      <th>sentiment</th>\n      <th>sentiment_int</th>\n    </tr>\n  </thead>\n  <tbody>\n    <tr>\n      <th>0</th>\n      <td>Now, I won't deny that when I purchased this o...</td>\n      <td>neg</td>\n      <td>0</td>\n    </tr>\n    <tr>\n      <th>1</th>\n      <td>The saddest thing about this \"tribute\" is that...</td>\n      <td>neg</td>\n      <td>0</td>\n    </tr>\n    <tr>\n      <th>2</th>\n      <td>Last night I decided to watch the prequel or s...</td>\n      <td>neg</td>\n      <td>0</td>\n    </tr>\n    <tr>\n      <th>3</th>\n      <td>I have to admit that i liked the first half of...</td>\n      <td>neg</td>\n      <td>0</td>\n    </tr>\n    <tr>\n      <th>4</th>\n      <td>I was not impressed about this film especially...</td>\n      <td>neg</td>\n      <td>0</td>\n    </tr>\n    <tr>\n      <th>5</th>\n      <td>The original movie, The Odd Couple, has some w...</td>\n      <td>pos</td>\n      <td>1</td>\n    </tr>\n    <tr>\n      <th>6</th>\n      <td>This was a great movie with a good cast, all o...</td>\n      <td>pos</td>\n      <td>1</td>\n    </tr>\n    <tr>\n      <th>7</th>\n      <td>I'm a sucker for a good romance, but this one ...</td>\n      <td>neg</td>\n      <td>0</td>\n    </tr>\n    <tr>\n      <th>8</th>\n      <td>Fast-paced, funny, sexy, and spectacular. Cagn...</td>\n      <td>pos</td>\n      <td>1</td>\n    </tr>\n    <tr>\n      <th>9</th>\n      <td>The proverb \"Never judge a book by it's cover\"...</td>\n      <td>neg</td>\n      <td>0</td>\n    </tr>\n  </tbody>\n</table>\n</div>"
     },
     "execution_count": 159,
     "metadata": {},
     "output_type": "execute_result"
    }
   ],
   "source": [
    "train_data.head(10)"
   ],
   "metadata": {
    "collapsed": false,
    "pycharm": {
     "name": "#%%\n"
    }
   }
  },
  {
   "cell_type": "code",
   "execution_count": 160,
   "outputs": [
    {
     "data": {
      "text/plain": "                                                    text sentiment  \\\n20000  This movie is not a remake of She's all That (...       neg   \n20001  Theres not much you can really say about this ...       neg   \n20002  Admittedly, there are some scenes in this movi...       pos   \n20003  Diane Lane, Mickey Rourke, Rosario Dawson & Th...       neg   \n20004  A rather disappointing film. The club scenes w...       neg   \n20005  Too bad Mike Meyers picked this for his dramat...       neg   \n20006  This is one of my favourite books and I rememb...       pos   \n20007  The three-part series ended last night on PBS,...       pos   \n20008  I bought the DVD a long time ago and finally g...       pos   \n20009  The Squire of Gothos is one of the \"sillier\" e...       pos   \n\n       sentiment_int  \n20000              0  \n20001              0  \n20002              1  \n20003              0  \n20004              0  \n20005              0  \n20006              1  \n20007              1  \n20008              1  \n20009              1  ",
      "text/html": "<div>\n<style scoped>\n    .dataframe tbody tr th:only-of-type {\n        vertical-align: middle;\n    }\n\n    .dataframe tbody tr th {\n        vertical-align: top;\n    }\n\n    .dataframe thead th {\n        text-align: right;\n    }\n</style>\n<table border=\"1\" class=\"dataframe\">\n  <thead>\n    <tr style=\"text-align: right;\">\n      <th></th>\n      <th>text</th>\n      <th>sentiment</th>\n      <th>sentiment_int</th>\n    </tr>\n  </thead>\n  <tbody>\n    <tr>\n      <th>20000</th>\n      <td>This movie is not a remake of She's all That (...</td>\n      <td>neg</td>\n      <td>0</td>\n    </tr>\n    <tr>\n      <th>20001</th>\n      <td>Theres not much you can really say about this ...</td>\n      <td>neg</td>\n      <td>0</td>\n    </tr>\n    <tr>\n      <th>20002</th>\n      <td>Admittedly, there are some scenes in this movi...</td>\n      <td>pos</td>\n      <td>1</td>\n    </tr>\n    <tr>\n      <th>20003</th>\n      <td>Diane Lane, Mickey Rourke, Rosario Dawson &amp; Th...</td>\n      <td>neg</td>\n      <td>0</td>\n    </tr>\n    <tr>\n      <th>20004</th>\n      <td>A rather disappointing film. The club scenes w...</td>\n      <td>neg</td>\n      <td>0</td>\n    </tr>\n    <tr>\n      <th>20005</th>\n      <td>Too bad Mike Meyers picked this for his dramat...</td>\n      <td>neg</td>\n      <td>0</td>\n    </tr>\n    <tr>\n      <th>20006</th>\n      <td>This is one of my favourite books and I rememb...</td>\n      <td>pos</td>\n      <td>1</td>\n    </tr>\n    <tr>\n      <th>20007</th>\n      <td>The three-part series ended last night on PBS,...</td>\n      <td>pos</td>\n      <td>1</td>\n    </tr>\n    <tr>\n      <th>20008</th>\n      <td>I bought the DVD a long time ago and finally g...</td>\n      <td>pos</td>\n      <td>1</td>\n    </tr>\n    <tr>\n      <th>20009</th>\n      <td>The Squire of Gothos is one of the \"sillier\" e...</td>\n      <td>pos</td>\n      <td>1</td>\n    </tr>\n  </tbody>\n</table>\n</div>"
     },
     "execution_count": 160,
     "metadata": {},
     "output_type": "execute_result"
    }
   ],
   "source": [
    "test_data.head(10)"
   ],
   "metadata": {
    "collapsed": false,
    "pycharm": {
     "name": "#%%\n"
    }
   }
  },
  {
   "cell_type": "code",
   "execution_count": 161,
   "outputs": [
    {
     "data": {
      "text/plain": "                                                    text sentiment  \\\n15000  This movie is a gay love story disguised as a ...       neg   \n15001  This is one of my all time favourites. All the...       pos   \n15002  I was on a British Airways flight from London ...       neg   \n15003  Pink Flamingos: A Representation of Society's ...       pos   \n15004  OK, so this film is well acted. It has good di...       neg   \n\n       sentiment_int  \n15000              0  \n15001              1  \n15002              0  \n15003              1  \n15004              0  ",
      "text/html": "<div>\n<style scoped>\n    .dataframe tbody tr th:only-of-type {\n        vertical-align: middle;\n    }\n\n    .dataframe tbody tr th {\n        vertical-align: top;\n    }\n\n    .dataframe thead th {\n        text-align: right;\n    }\n</style>\n<table border=\"1\" class=\"dataframe\">\n  <thead>\n    <tr style=\"text-align: right;\">\n      <th></th>\n      <th>text</th>\n      <th>sentiment</th>\n      <th>sentiment_int</th>\n    </tr>\n  </thead>\n  <tbody>\n    <tr>\n      <th>15000</th>\n      <td>This movie is a gay love story disguised as a ...</td>\n      <td>neg</td>\n      <td>0</td>\n    </tr>\n    <tr>\n      <th>15001</th>\n      <td>This is one of my all time favourites. All the...</td>\n      <td>pos</td>\n      <td>1</td>\n    </tr>\n    <tr>\n      <th>15002</th>\n      <td>I was on a British Airways flight from London ...</td>\n      <td>neg</td>\n      <td>0</td>\n    </tr>\n    <tr>\n      <th>15003</th>\n      <td>Pink Flamingos: A Representation of Society's ...</td>\n      <td>pos</td>\n      <td>1</td>\n    </tr>\n    <tr>\n      <th>15004</th>\n      <td>OK, so this film is well acted. It has good di...</td>\n      <td>neg</td>\n      <td>0</td>\n    </tr>\n  </tbody>\n</table>\n</div>"
     },
     "execution_count": 161,
     "metadata": {},
     "output_type": "execute_result"
    }
   ],
   "source": [
    "dev_data.head()"
   ],
   "metadata": {
    "collapsed": false,
    "pycharm": {
     "name": "#%%\n"
    }
   }
  },
  {
   "cell_type": "code",
   "execution_count": 162,
   "outputs": [
    {
     "name": "stdout",
     "output_type": "stream",
     "text": [
      "There are 40000 rows and 3 columns of training data\n"
     ]
    }
   ],
   "source": [
    "nRow, nCol = train_data.shape\n",
    "print(f'There are {nRow} rows and {nCol} columns of training data')"
   ],
   "metadata": {
    "collapsed": false,
    "pycharm": {
     "name": "#%%\n"
    }
   }
  },
  {
   "cell_type": "code",
   "execution_count": 163,
   "outputs": [
    {
     "name": "stdout",
     "output_type": "stream",
     "text": [
      "There are 5000 rows and 3 columns of test data\n"
     ]
    }
   ],
   "source": [
    "nRow, nCol = test_data.shape\n",
    "print(f'There are {nRow} rows and {nCol} columns of test data')"
   ],
   "metadata": {
    "collapsed": false,
    "pycharm": {
     "name": "#%%\n"
    }
   }
  },
  {
   "cell_type": "code",
   "execution_count": 164,
   "outputs": [
    {
     "name": "stdout",
     "output_type": "stream",
     "text": [
      "There are 5000 rows and 3 columns of development data\n"
     ]
    }
   ],
   "source": [
    "nRow, nCol = dev_data.shape\n",
    "print(f'There are {nRow} rows and {nCol} columns of development data')"
   ],
   "metadata": {
    "collapsed": false,
    "pycharm": {
     "name": "#%%\n"
    }
   }
  },
  {
   "cell_type": "code",
   "execution_count": 165,
   "outputs": [
    {
     "data": {
      "text/plain": "<Figure size 432x288 with 1 Axes>",
      "image/png": "[encoded data removed]"
     },
     "metadata": {
      "needs_background": "light"
     },
     "output_type": "display_data"
    }
   ],
   "source": [
    "train_data['sentiment_int'].plot.hist()\n",
    "plt.show()"
   ],
   "metadata": {
    "collapsed": false,
    "pycharm": {
     "name": "#%%\n"
    }
   }
  },
  {
   "cell_type": "code",
   "execution_count": 166,
   "outputs": [
    {
     "data": {
      "text/plain": "<AxesSubplot:ylabel='Frequency'>"
     },
     "execution_count": 166,
     "metadata": {},
     "output_type": "execute_result"
    },
    {
     "data": {
      "text/plain": "<Figure size 432x288 with 1 Axes>",
      "image/png": "[encoded data removed]"
     },
     "metadata": {
      "needs_background": "light"
     },
     "output_type": "display_data"
    }
   ],
   "source": [
    "test_data['sentiment_int'].plot.hist()"
   ],
   "metadata": {
    "collapsed": false,
    "pycharm": {
     "name": "#%%\n"
    }
   }
  },
  {
   "cell_type": "code",
   "execution_count": 167,
   "outputs": [
    {
     "data": {
      "text/plain": "<AxesSubplot:ylabel='Frequency'>"
     },
     "execution_count": 167,
     "metadata": {},
     "output_type": "execute_result"
    },
    {
     "data": {
      "text/plain": "<Figure size 432x288 with 1 Axes>",
      "image/png": "[encoded data removed]"
     },
     "metadata": {
      "needs_background": "light"
     },
     "output_type": "display_data"
    }
   ],
   "source": [
    "dev_data['sentiment_int'].plot.hist()"
   ],
   "metadata": {
    "collapsed": false,
    "pycharm": {
     "name": "#%%\n"
    }
   }
  },
  {
   "cell_type": "code",
   "execution_count": 168,
   "outputs": [
    {
     "name": "stdout",
     "output_type": "stream",
     "text": [
      "total train records: 40000\n",
      "positive records: 19955\n",
      "negative records: 20045\n"
     ]
    }
   ],
   "source": [
    "train_len = len(train_data)\n",
    "print('total train records:', train_len)\n",
    "\n",
    "pos_len = len(train_data[train_data['sentiment_int'] == 1])\n",
    "neg_len = len(train_data[train_data['sentiment_int'] == 0])\n",
    "\n",
    "print ('positive records:', pos_len)\n",
    "print ('negative records:', neg_len)"
   ],
   "metadata": {
    "collapsed": false,
    "pycharm": {
     "name": "#%%\n"
    }
   }
  },
  {
   "cell_type": "code",
   "execution_count": 169,
   "outputs": [
    {
     "name": "stdout",
     "output_type": "stream",
     "text": [
      "total train records: 5000\n",
      "positive records: 2517\n",
      "negative records: 2483\n"
     ]
    }
   ],
   "source": [
    "test_len = len(test_data)\n",
    "print('total train records:', test_len)\n",
    "\n",
    "pos_len = len(test_data[test_data['sentiment_int'] == 1])\n",
    "neg_len = len(test_data[test_data['sentiment_int'] == 0])\n",
    "\n",
    "print ('positive records:', pos_len)\n",
    "print ('negative records:', neg_len)"
   ],
   "metadata": {
    "collapsed": false,
    "pycharm": {
     "name": "#%%\n"
    }
   }
  },
  {
   "cell_type": "code",
   "execution_count": 170,
   "outputs": [
    {
     "name": "stdout",
     "output_type": "stream",
     "text": [
      "total train records: 5000\n",
      "positive records: 2528\n",
      "negative records: 2472\n"
     ]
    }
   ],
   "source": [
    "dev_len = len(dev_data)\n",
    "print('total train records:', dev_len)\n",
    "\n",
    "pos_len = len(dev_data[dev_data['sentiment_int'] == 1])\n",
    "neg_len = len(dev_data[dev_data['sentiment_int'] == 0])\n",
    "\n",
    "print ('positive records:', pos_len)\n",
    "print ('negative records:', neg_len)"
   ],
   "metadata": {
    "collapsed": false,
    "pycharm": {
     "name": "#%%\n"
    }
   }
  },
  {
   "cell_type": "code",
   "execution_count": 171,
   "outputs": [
    {
     "name": "stdout",
     "output_type": "stream",
     "text": [
      "Number of duplicates in the data = 253\n"
     ]
    }
   ],
   "source": [
    "print(f'Number of duplicates in the data = {train_data.duplicated().sum()}')"
   ],
   "metadata": {
    "collapsed": false,
    "pycharm": {
     "name": "#%%\n"
    }
   }
  },
  {
   "cell_type": "code",
   "execution_count": 172,
   "outputs": [
    {
     "data": {
      "text/plain": "                                                    text sentiment  \\\n0      Now, I won't deny that when I purchased this o...       neg   \n1      The saddest thing about this \"tribute\" is that...       neg   \n2      Last night I decided to watch the prequel or s...       neg   \n3      I have to admit that i liked the first half of...       neg   \n4      I was not impressed about this film especially...       neg   \n...                                                  ...       ...   \n14995  Reading through most of the other reviews, I t...       neg   \n14996  Like many western Pennsylvania history buffs, ...       neg   \n14997  For all its wonderful images, for all of its g...       neg   \n14998  Hadn't really heard too much about this movie ...       neg   \n14999  This is definitely an excellent show. I don't ...       pos   \n\n       sentiment_int  \n0                  0  \n1                  0  \n2                  0  \n3                  0  \n4                  0  \n...              ...  \n14995              0  \n14996              0  \n14997              0  \n14998              0  \n14999              1  \n\n[39747 rows x 3 columns]",
      "text/html": "<div>\n<style scoped>\n    .dataframe tbody tr th:only-of-type {\n        vertical-align: middle;\n    }\n\n    .dataframe tbody tr th {\n        vertical-align: top;\n    }\n\n    .dataframe thead th {\n        text-align: right;\n    }\n</style>\n<table border=\"1\" class=\"dataframe\">\n  <thead>\n    <tr style=\"text-align: right;\">\n      <th></th>\n      <th>text</th>\n      <th>sentiment</th>\n      <th>sentiment_int</th>\n    </tr>\n  </thead>\n  <tbody>\n    <tr>\n      <th>0</th>\n      <td>Now, I won't deny that when I purchased this o...</td>\n      <td>neg</td>\n      <td>0</td>\n    </tr>\n    <tr>\n      <th>1</th>\n      <td>The saddest thing about this \"tribute\" is that...</td>\n      <td>neg</td>\n      <td>0</td>\n    </tr>\n    <tr>\n      <th>2</th>\n      <td>Last night I decided to watch the prequel or s...</td>\n      <td>neg</td>\n      <td>0</td>\n    </tr>\n    <tr>\n      <th>3</th>\n      <td>I have to admit that i liked the first half of...</td>\n      <td>neg</td>\n      <td>0</td>\n    </tr>\n    <tr>\n      <th>4</th>\n      <td>I was not impressed about this film especially...</td>\n      <td>neg</td>\n      <td>0</td>\n    </tr>\n    <tr>\n      <th>...</th>\n      <td>...</td>\n      <td>...</td>\n      <td>...</td>\n    </tr>\n    <tr>\n      <th>14995</th>\n      <td>Reading through most of the other reviews, I t...</td>\n      <td>neg</td>\n      <td>0</td>\n    </tr>\n    <tr>\n      <th>14996</th>\n      <td>Like many western Pennsylvania history buffs, ...</td>\n      <td>neg</td>\n      <td>0</td>\n    </tr>\n    <tr>\n      <th>14997</th>\n      <td>For all its wonderful images, for all of its g...</td>\n      <td>neg</td>\n      <td>0</td>\n    </tr>\n    <tr>\n      <th>14998</th>\n      <td>Hadn't really heard too much about this movie ...</td>\n      <td>neg</td>\n      <td>0</td>\n    </tr>\n    <tr>\n      <th>14999</th>\n      <td>This is definitely an excellent show. I don't ...</td>\n      <td>pos</td>\n      <td>1</td>\n    </tr>\n  </tbody>\n</table>\n<p>39747 rows × 3 columns</p>\n</div>"
     },
     "execution_count": 172,
     "metadata": {},
     "output_type": "execute_result"
    }
   ],
   "source": [
    "movie_train = train_data.drop_duplicates(subset=None, keep='first')\n",
    "movie_train"
   ],
   "metadata": {
    "collapsed": false,
    "pycharm": {
     "name": "#%%\n"
    }
   }
  },
  {
   "cell_type": "code",
   "execution_count": 173,
   "outputs": [
    {
     "name": "stdout",
     "output_type": "stream",
     "text": [
      "Number of duplicates in the data = 8\n"
     ]
    }
   ],
   "source": [
    "print(f'Number of duplicates in the data = {test_data.duplicated().sum()}')"
   ],
   "metadata": {
    "collapsed": false,
    "pycharm": {
     "name": "#%%\n"
    }
   }
  },
  {
   "cell_type": "code",
   "execution_count": 174,
   "outputs": [
    {
     "data": {
      "text/plain": "                                                    text sentiment  \\\n20000  This movie is not a remake of She's all That (...       neg   \n20001  Theres not much you can really say about this ...       neg   \n20002  Admittedly, there are some scenes in this movi...       pos   \n20003  Diane Lane, Mickey Rourke, Rosario Dawson & Th...       neg   \n20004  A rather disappointing film. The club scenes w...       neg   \n...                                                  ...       ...   \n24995  For one thing, he produced this movie. It has ...       neg   \n24996  The title comes from an alteration an adolesce...       pos   \n24997  Christopher Nolan's first film is a 'no budget...       pos   \n24998  The story is shortly about the faith-lacking b...       neg   \n24999  I found parts of this movie rather slow, espec...       pos   \n\n       sentiment_int  \n20000              0  \n20001              0  \n20002              1  \n20003              0  \n20004              0  \n...              ...  \n24995              0  \n24996              1  \n24997              1  \n24998              0  \n24999              1  \n\n[4992 rows x 3 columns]",
      "text/html": "<div>\n<style scoped>\n    .dataframe tbody tr th:only-of-type {\n        vertical-align: middle;\n    }\n\n    .dataframe tbody tr th {\n        vertical-align: top;\n    }\n\n    .dataframe thead th {\n        text-align: right;\n    }\n</style>\n<table border=\"1\" class=\"dataframe\">\n  <thead>\n    <tr style=\"text-align: right;\">\n      <th></th>\n      <th>text</th>\n      <th>sentiment</th>\n      <th>sentiment_int</th>\n    </tr>\n  </thead>\n  <tbody>\n    <tr>\n      <th>20000</th>\n      <td>This movie is not a remake of She's all That (...</td>\n      <td>neg</td>\n      <td>0</td>\n    </tr>\n    <tr>\n      <th>20001</th>\n      <td>Theres not much you can really say about this ...</td>\n      <td>neg</td>\n      <td>0</td>\n    </tr>\n    <tr>\n      <th>20002</th>\n      <td>Admittedly, there are some scenes in this movi...</td>\n      <td>pos</td>\n      <td>1</td>\n    </tr>\n    <tr>\n      <th>20003</th>\n      <td>Diane Lane, Mickey Rourke, Rosario Dawson &amp; Th...</td>\n      <td>neg</td>\n      <td>0</td>\n    </tr>\n    <tr>\n      <th>20004</th>\n      <td>A rather disappointing film. The club scenes w...</td>\n      <td>neg</td>\n      <td>0</td>\n    </tr>\n    <tr>\n      <th>...</th>\n      <td>...</td>\n      <td>...</td>\n      <td>...</td>\n    </tr>\n    <tr>\n      <th>24995</th>\n      <td>For one thing, he produced this movie. It has ...</td>\n      <td>neg</td>\n      <td>0</td>\n    </tr>\n    <tr>\n      <th>24996</th>\n      <td>The title comes from an alteration an adolesce...</td>\n      <td>pos</td>\n      <td>1</td>\n    </tr>\n    <tr>\n      <th>24997</th>\n      <td>Christopher Nolan's first film is a 'no budget...</td>\n      <td>pos</td>\n      <td>1</td>\n    </tr>\n    <tr>\n      <th>24998</th>\n      <td>The story is shortly about the faith-lacking b...</td>\n      <td>neg</td>\n      <td>0</td>\n    </tr>\n    <tr>\n      <th>24999</th>\n      <td>I found parts of this movie rather slow, espec...</td>\n      <td>pos</td>\n      <td>1</td>\n    </tr>\n  </tbody>\n</table>\n<p>4992 rows × 3 columns</p>\n</div>"
     },
     "execution_count": 174,
     "metadata": {},
     "output_type": "execute_result"
    }
   ],
   "source": [
    "movie_test = test_data.drop_duplicates(subset=None, keep='first')\n",
    "movie_test"
   ],
   "metadata": {
    "collapsed": false,
    "pycharm": {
     "name": "#%%\n"
    }
   }
  },
  {
   "cell_type": "code",
   "execution_count": 175,
   "outputs": [
    {
     "name": "stdout",
     "output_type": "stream",
     "text": [
      "Number of duplicates in the data = 5\n"
     ]
    }
   ],
   "source": [
    "print(f'Number of duplicates in the data = {dev_data.duplicated().sum()}')"
   ],
   "metadata": {
    "collapsed": false,
    "pycharm": {
     "name": "#%%\n"
    }
   }
  },
  {
   "cell_type": "code",
   "execution_count": 176,
   "outputs": [
    {
     "data": {
      "text/plain": "                                                    text sentiment  \\\n15000  This movie is a gay love story disguised as a ...       neg   \n15001  This is one of my all time favourites. All the...       pos   \n15002  I was on a British Airways flight from London ...       neg   \n15003  Pink Flamingos: A Representation of Society's ...       pos   \n15004  OK, so this film is well acted. It has good di...       neg   \n...                                                  ...       ...   \n19995  (This might have a spoiler)<br /><br />When I ...       neg   \n19996  Thats what this movie really takes. A big piec...       neg   \n19997  If you like bad movies (and you must to watch ...       neg   \n19998  This movie deserved better. Mike Judge's satir...       pos   \n19999  i watched it because my friend said we could t...       pos   \n\n       sentiment_int  \n15000              0  \n15001              1  \n15002              0  \n15003              1  \n15004              0  \n...              ...  \n19995              0  \n19996              0  \n19997              0  \n19998              1  \n19999              1  \n\n[4995 rows x 3 columns]",
      "text/html": "<div>\n<style scoped>\n    .dataframe tbody tr th:only-of-type {\n        vertical-align: middle;\n    }\n\n    .dataframe tbody tr th {\n        vertical-align: top;\n    }\n\n    .dataframe thead th {\n        text-align: right;\n    }\n</style>\n<table border=\"1\" class=\"dataframe\">\n  <thead>\n    <tr style=\"text-align: right;\">\n      <th></th>\n      <th>text</th>\n      <th>sentiment</th>\n      <th>sentiment_int</th>\n    </tr>\n  </thead>\n  <tbody>\n    <tr>\n      <th>15000</th>\n      <td>This movie is a gay love story disguised as a ...</td>\n      <td>neg</td>\n      <td>0</td>\n    </tr>\n    <tr>\n      <th>15001</th>\n      <td>This is one of my all time favourites. All the...</td>\n      <td>pos</td>\n      <td>1</td>\n    </tr>\n    <tr>\n      <th>15002</th>\n      <td>I was on a British Airways flight from London ...</td>\n      <td>neg</td>\n      <td>0</td>\n    </tr>\n    <tr>\n      <th>15003</th>\n      <td>Pink Flamingos: A Representation of Society's ...</td>\n      <td>pos</td>\n      <td>1</td>\n    </tr>\n    <tr>\n      <th>15004</th>\n      <td>OK, so this film is well acted. It has good di...</td>\n      <td>neg</td>\n      <td>0</td>\n    </tr>\n    <tr>\n      <th>...</th>\n      <td>...</td>\n      <td>...</td>\n      <td>...</td>\n    </tr>\n    <tr>\n      <th>19995</th>\n      <td>(This might have a spoiler)&lt;br /&gt;&lt;br /&gt;When I ...</td>\n      <td>neg</td>\n      <td>0</td>\n    </tr>\n    <tr>\n      <th>19996</th>\n      <td>Thats what this movie really takes. A big piec...</td>\n      <td>neg</td>\n      <td>0</td>\n    </tr>\n    <tr>\n      <th>19997</th>\n      <td>If you like bad movies (and you must to watch ...</td>\n      <td>neg</td>\n      <td>0</td>\n    </tr>\n    <tr>\n      <th>19998</th>\n      <td>This movie deserved better. Mike Judge's satir...</td>\n      <td>pos</td>\n      <td>1</td>\n    </tr>\n    <tr>\n      <th>19999</th>\n      <td>i watched it because my friend said we could t...</td>\n      <td>pos</td>\n      <td>1</td>\n    </tr>\n  </tbody>\n</table>\n<p>4995 rows × 3 columns</p>\n</div>"
     },
     "execution_count": 176,
     "metadata": {},
     "output_type": "execute_result"
    }
   ],
   "source": [
    "movie_dev = dev_data.drop_duplicates(subset=None, keep='first')\n",
    "movie_dev"
   ],
   "metadata": {
    "collapsed": false,
    "pycharm": {
     "name": "#%%\n"
    }
   }
  },
  {
   "cell_type": "code",
   "execution_count": 177,
   "outputs": [
    {
     "data": {
      "text/plain": "text             0\nsentiment        0\nsentiment_int    0\ndtype: int64"
     },
     "execution_count": 177,
     "metadata": {},
     "output_type": "execute_result"
    }
   ],
   "source": [
    "train_data.isnull().sum()"
   ],
   "metadata": {
    "collapsed": false,
    "pycharm": {
     "name": "#%%\n"
    }
   }
  },
  {
   "cell_type": "code",
   "execution_count": 178,
   "outputs": [
    {
     "data": {
      "text/plain": "text             0\nsentiment        0\nsentiment_int    0\ndtype: int64"
     },
     "execution_count": 178,
     "metadata": {},
     "output_type": "execute_result"
    }
   ],
   "source": [
    "train_data.isnull().sum()"
   ],
   "metadata": {
    "collapsed": false,
    "pycharm": {
     "name": "#%%\n"
    }
   }
  },
  {
   "cell_type": "code",
   "execution_count": 179,
   "outputs": [
    {
     "data": {
      "text/plain": "                                                    text sentiment  \\\n0      Now, I won't deny that when I purchased this o...       neg   \n1      The saddest thing about this \"tribute\" is that...       neg   \n2      Last night I decided to watch the prequel or s...       neg   \n3      I have to admit that i liked the first half of...       neg   \n4      I was not impressed about this film especially...       neg   \n...                                                  ...       ...   \n14995  Reading through most of the other reviews, I t...       neg   \n14996  Like many western Pennsylvania history buffs, ...       neg   \n14997  For all its wonderful images, for all of its g...       neg   \n14998  Hadn't really heard too much about this movie ...       neg   \n14999  This is definitely an excellent show. I don't ...       pos   \n\n       sentiment_int  \n0                  0  \n1                  0  \n2                  0  \n3                  0  \n4                  0  \n...              ...  \n14995              0  \n14996              0  \n14997              0  \n14998              0  \n14999              1  \n\n[40000 rows x 3 columns]",
      "text/html": "<div>\n<style scoped>\n    .dataframe tbody tr th:only-of-type {\n        vertical-align: middle;\n    }\n\n    .dataframe tbody tr th {\n        vertical-align: top;\n    }\n\n    .dataframe thead th {\n        text-align: right;\n    }\n</style>\n<table border=\"1\" class=\"dataframe\">\n  <thead>\n    <tr style=\"text-align: right;\">\n      <th></th>\n      <th>text</th>\n      <th>sentiment</th>\n      <th>sentiment_int</th>\n    </tr>\n  </thead>\n  <tbody>\n    <tr>\n      <th>0</th>\n      <td>Now, I won't deny that when I purchased this o...</td>\n      <td>neg</td>\n      <td>0</td>\n    </tr>\n    <tr>\n      <th>1</th>\n      <td>The saddest thing about this \"tribute\" is that...</td>\n      <td>neg</td>\n      <td>0</td>\n    </tr>\n    <tr>\n      <th>2</th>\n      <td>Last night I decided to watch the prequel or s...</td>\n      <td>neg</td>\n      <td>0</td>\n    </tr>\n    <tr>\n      <th>3</th>\n      <td>I have to admit that i liked the first half of...</td>\n      <td>neg</td>\n      <td>0</td>\n    </tr>\n    <tr>\n      <th>4</th>\n      <td>I was not impressed about this film especially...</td>\n      <td>neg</td>\n      <td>0</td>\n    </tr>\n    <tr>\n      <th>...</th>\n      <td>...</td>\n      <td>...</td>\n      <td>...</td>\n    </tr>\n    <tr>\n      <th>14995</th>\n      <td>Reading through most of the other reviews, I t...</td>\n      <td>neg</td>\n      <td>0</td>\n    </tr>\n    <tr>\n      <th>14996</th>\n      <td>Like many western Pennsylvania history buffs, ...</td>\n      <td>neg</td>\n      <td>0</td>\n    </tr>\n    <tr>\n      <th>14997</th>\n      <td>For all its wonderful images, for all of its g...</td>\n      <td>neg</td>\n      <td>0</td>\n    </tr>\n    <tr>\n      <th>14998</th>\n      <td>Hadn't really heard too much about this movie ...</td>\n      <td>neg</td>\n      <td>0</td>\n    </tr>\n    <tr>\n      <th>14999</th>\n      <td>This is definitely an excellent show. I don't ...</td>\n      <td>pos</td>\n      <td>1</td>\n    </tr>\n  </tbody>\n</table>\n<p>40000 rows × 3 columns</p>\n</div>"
     },
     "execution_count": 179,
     "metadata": {},
     "output_type": "execute_result"
    }
   ],
   "source": [
    "train_data"
   ],
   "metadata": {
    "collapsed": false,
    "pycharm": {
     "name": "#%%\n"
    }
   }
  },
  {
   "cell_type": "code",
   "execution_count": 180,
   "outputs": [
    {
     "name": "stdout",
     "output_type": "stream",
     "text": [
      "Count of each rating value:\n",
      " 1    19955\n",
      "0    20045\n",
      "Name: sentiment_int, dtype: int64\n"
     ]
    }
   ],
   "source": [
    "ratings_counts = train_data['sentiment_int'].value_counts().sort_index(ascending=False)\n",
    "print(\"Count of each rating value:\\n\", ratings_counts)"
   ],
   "metadata": {
    "collapsed": false,
    "pycharm": {
     "name": "#%%\n"
    }
   }
  },
  {
   "cell_type": "code",
   "execution_count": 181,
   "outputs": [
    {
     "data": {
      "text/plain": "[(9955.0, 25045.0)]"
     },
     "execution_count": 181,
     "metadata": {},
     "output_type": "execute_result"
    },
    {
     "data": {
      "text/plain": "<Figure size 432x288 with 1 Axes>",
      "image/png": "[encoded data removed]"
     },
     "metadata": {
      "needs_background": "light"
     },
     "output_type": "display_data"
    }
   ],
   "source": [
    "ratings_count_list = sorted(ratings_counts.items(), key=operator.itemgetter(1), reverse=False)\n",
    "min_count = ratings_count_list[0][1]\n",
    "\n",
    "ratings_count_list = sorted(ratings_counts.items(), key=operator.itemgetter(1), reverse=True)\n",
    "max_count = ratings_count_list[0][1]\n",
    "\n",
    "ratings_count_list = sorted(ratings_counts.items(), key=operator.itemgetter(0), reverse=False)\n",
    "\n",
    "ratingVal = [item[0] for item in ratings_count_list]\n",
    "countVal = [item[1] for item in ratings_count_list]\n",
    "\n",
    "df = pd.DataFrame({'Rating Count': countVal}, index=ratingVal)\n",
    "\n",
    "ax = df.plot.bar(rot=0)\n",
    "ax.set(ylim=[min_count-10000, max_count+5000])"
   ],
   "metadata": {
    "collapsed": false,
    "pycharm": {
     "name": "#%%\n"
    }
   }
  },
  {
   "cell_type": "code",
   "execution_count": 182,
   "outputs": [
    {
     "name": "stdout",
     "output_type": "stream",
     "text": [
      "32000\n"
     ]
    }
   ],
   "source": [
    "small_df = train_data.groupby('sentiment_int').apply(lambda x: x.sample(frac=0.8))\n",
    "original_len_small_df = len(small_df)\n",
    "print(original_len_small_df)"
   ],
   "metadata": {
    "collapsed": false,
    "pycharm": {
     "name": "#%%\n"
    }
   }
  },
  {
   "cell_type": "code",
   "execution_count": 183,
   "outputs": [],
   "source": [
    "tfidfconverter = TfidfVectorizer(min_df=0.002)\n",
    "\n",
    "# For train data - use fit_transform\n",
    "X_train = tfidfconverter.fit_transform(train_data['text']).toarray()\n",
    "\n",
    "# For dev and test - use transform\n",
    "X_dev_arr = tfidfconverter.transform(dev_data['text']).toarray()\n",
    "X_test_arr = tfidfconverter.transform(test_data['text']).toarray()\n",
    "X_dev = tfidfconverter.transform(dev_data['text'])\n",
    "X_test = tfidfconverter.transform(test_data['text'])\n",
    "\n",
    "# Put 'rating' column of each dataframe into y\n",
    "y_train = np.asarray(train_data['sentiment_int'])\n",
    "y_dev = np.asarray(dev_data['sentiment_int'])\n",
    "y_test = np.asarray(test_data['sentiment_int'])"
   ],
   "metadata": {
    "collapsed": false,
    "pycharm": {
     "name": "#%%\n"
    }
   }
  },
  {
   "cell_type": "code",
   "execution_count": 184,
   "outputs": [],
   "source": [
    "mse_dict = dict()\n",
    "accuracy_dict = dict()\n",
    "classifier_dict = dict()"
   ],
   "metadata": {
    "collapsed": false,
    "pycharm": {
     "name": "#%%\n"
    }
   }
  },
  {
   "cell_type": "code",
   "execution_count": 185,
   "outputs": [
    {
     "name": "stdout",
     "output_type": "stream",
     "text": [
      "Using Multinomial Naive Bayes:\n",
      "Mean Squared Error: 0.503\n",
      "Accuracy: 49.7\n",
      "runtime: 1.0030219554901123 sec\n"
     ]
    }
   ],
   "source": [
    "start_time = time.time()\n",
    "\n",
    "# Train and Predict the data using Multinomial Naive Bayes\n",
    "multinomialNB = MultinomialNB(alpha=1)\n",
    "multinomialNB.fit(X_train, y_train)\n",
    "classifier_dict[\"Multinomial Naive Bayes\"] = multinomialNB;\n",
    "y_pred_mnb_dev = multinomialNB.predict(X_dev)\n",
    "\n",
    "# Calculate the Mean Squared Error and Accuracy\n",
    "mse_mnb_dev = mean_squared_error(y_test, y_pred_mnb_dev)\n",
    "accuracy_mnb_dev = accuracy_score(y_test, y_pred_mnb_dev)*100\n",
    "\n",
    "# Print the Mean Squared Error and Accuracy\n",
    "print(\"Using Multinomial Naive Bayes:\")\n",
    "print(\"Mean Squared Error:\", mse_mnb_dev)\n",
    "print(\"Accuracy:\", accuracy_mnb_dev)\n",
    "\n",
    "# Store the Mean Squared Error and Accuracy in dictionaries\n",
    "mse_dict[\"Multinomial Naive Bayes\"] = mse_mnb_dev;\n",
    "accuracy_dict[\"Multinomial Naive Bayes\"] = accuracy_mnb_dev;\n",
    "\n",
    "end_time = time.time()\n",
    "print(\"runtime: %s sec\" % (end_time - start_time))"
   ],
   "metadata": {
    "collapsed": false,
    "pycharm": {
     "name": "#%%\n"
    }
   }
  },
  {
   "cell_type": "code",
   "execution_count": 186,
   "outputs": [
    {
     "name": "stdout",
     "output_type": "stream",
     "text": [
      "Using Linear SVC (C=1):\n",
      "Mean Squared Error: 0.5068\n",
      "Accuracy: 49.32\n",
      "runtime: 3.310098171234131 sec\n"
     ]
    }
   ],
   "source": [
    "start_time = time.time()\n",
    "\n",
    "# Train and Predict the data using Linear SVM (C=1)\n",
    "linearSVC1 = LinearSVC(C=1, dual=False)\n",
    "linearSVC1.fit(X_train, y_train)\n",
    "classifier_dict[\"Linear SVC (C=1)\"] = linearSVC1;\n",
    "y_pred_lsvc = linearSVC1.predict(X_dev)\n",
    "\n",
    "# Calculate the Mean Squared Error and Accuracy\n",
    "mse_lsvc1_dev = mean_squared_error(y_test, y_pred_lsvc)\n",
    "accuracy_lsvc1_dev = accuracy_score(y_test, y_pred_lsvc)*100\n",
    "\n",
    "# Print the Mean Squared Error and Accuracy\n",
    "print(\"Using Linear SVC (C=1):\")\n",
    "print('Mean Squared Error:', mse_lsvc1_dev)\n",
    "print('Accuracy:', accuracy_lsvc1_dev)\n",
    "\n",
    "# Store the Mean Squared Error and Accuracy in dictionaries\n",
    "mse_dict[\"Linear SVC (C=1)\"] = mse_lsvc1_dev;\n",
    "accuracy_dict[\"Linear SVC (C=1)\"] = accuracy_lsvc1_dev;\n",
    "\n",
    "end_time = time.time()\n",
    "print(\"runtime: %s sec\" % (end_time - start_time))"
   ],
   "metadata": {
    "collapsed": false,
    "pycharm": {
     "name": "#%%\n"
    }
   }
  },
  {
   "cell_type": "code",
   "execution_count": 187,
   "outputs": [
    {
     "name": "stdout",
     "output_type": "stream",
     "text": [
      "Using Linear SVC (C=100):\n",
      "Mean Squared Error: 0.5036\n",
      "Accuracy: 49.64\n",
      "runtime: 4.974186897277832 sec\n"
     ]
    }
   ],
   "source": [
    "start_time = time.time()\n",
    "\n",
    "# Train and Predict the data using Linear SVM (C=100)\n",
    "linearSVC100 = LinearSVC(C=100, dual=False)\n",
    "linearSVC100.fit(X_train, y_train)\n",
    "classifier_dict[\"Linear SVC (C=100)\"] = linearSVC100;\n",
    "y_pred_lsvc = linearSVC100.predict(X_dev)\n",
    "\n",
    "# Calculate the Mean Squared Error and Accuracy\n",
    "mse_lsvc100_dev = mean_squared_error(y_test, y_pred_lsvc)\n",
    "accuracy_lsvc100_dev = accuracy_score(y_test, y_pred_lsvc)*100\n",
    "\n",
    "# Print the Mean Squared Error and Accuracy\n",
    "print(\"Using Linear SVC (C=100):\")\n",
    "print('Mean Squared Error:', mse_lsvc100_dev)\n",
    "print('Accuracy:', accuracy_lsvc100_dev)\n",
    "\n",
    "# Store the Mean Squared Error and Accuracy in dictionaries\n",
    "mse_dict[\"Linear SVC (C=100)\"] = mse_lsvc100_dev;\n",
    "accuracy_dict[\"Linear SVC (C=100)\"] = accuracy_lsvc100_dev;\n",
    "\n",
    "end_time = time.time()\n",
    "print(\"runtime: %s sec\" % (end_time - start_time))"
   ],
   "metadata": {
    "collapsed": false,
    "pycharm": {
     "name": "#%%\n"
    }
   }
  },
  {
   "cell_type": "code",
   "execution_count": 188,
   "outputs": [
    {
     "name": "stdout",
     "output_type": "stream",
     "text": [
      "Using Linear SVC (C=1000):\n",
      "Mean Squared Error: 0.5052\n",
      "Accuracy: 49.480000000000004\n",
      "runtime: 6.243682384490967 sec\n"
     ]
    }
   ],
   "source": [
    "start_time = time.time()\n",
    "\n",
    "# Train and Predict the data using Linear SVM (C=1000)\n",
    "linearSVC1000 = LinearSVC(C=1000, dual=False)\n",
    "linearSVC1000.fit(X_train, y_train)\n",
    "classifier_dict[\"Linear SVC (C=1000)\"] = linearSVC1000;\n",
    "y_pred_lsvc = linearSVC1000.predict(X_dev)\n",
    "\n",
    "# Calculate the Mean Squared Error and Accuracy\n",
    "mse_lsvc1000_dev = mean_squared_error(y_test, y_pred_lsvc)\n",
    "accuracy_lsvc1000_dev = accuracy_score(y_test, y_pred_lsvc)*100\n",
    "\n",
    "# Print the Mean Squared Error and Accuracy\n",
    "print(\"Using Linear SVC (C=1000):\")\n",
    "print('Mean Squared Error:', mse_lsvc1000_dev)\n",
    "print('Accuracy:', accuracy_lsvc1000_dev)\n",
    "\n",
    "# Store the Mean Squared Error and Accuracy in dictionaries\n",
    "mse_dict[\"Linear SVC (C=1000)\"] = mse_lsvc1000_dev;\n",
    "accuracy_dict[\"Linear SVC (C=1000)\"] = accuracy_lsvc1000_dev;\n",
    "\n",
    "end_time = time.time()\n",
    "print(\"runtime: %s sec\" % (end_time - start_time))\n"
   ],
   "metadata": {
    "collapsed": false,
    "pycharm": {
     "name": "#%%\n"
    }
   }
  },
  {
   "cell_type": "code",
   "execution_count": 189,
   "outputs": [
    {
     "name": "stdout",
     "output_type": "stream",
     "text": [
      "Using Random Forest Classifier:\n",
      "Accuracy: 49.4\n",
      "runtime: 3.086916923522949 sec\n"
     ]
    }
   ],
   "source": [
    "start_time = time.time()\n",
    "\n",
    "# Train and Predict the data using Random Forest Classifier (n_estimators=10)\n",
    "randomForest10 = RandomForestClassifier(max_depth=100, n_estimators=10, max_features=1)\n",
    "randomForest10.fit(X_train, y_train)\n",
    "classifier_dict[\"Random Forest Classifier (n_estimators=10)\"] = randomForest10;\n",
    "y_pred_rfc = randomForest10.predict(X_dev)\n",
    "\n",
    "# Calculate the Accuracy\n",
    "mse_rfc10_dev = mean_squared_error(y_test, y_pred_rfc)\n",
    "accuracy_rfc10_dev = accuracy_score(y_test, y_pred_rfc)*100\n",
    "\n",
    "# Print the  and Accuracy\n",
    "print(\"Using Random Forest Classifier:\")\n",
    "\n",
    "print('Accuracy:', accuracy_rfc10_dev)\n",
    "\n",
    "# Store the Mean Squared Error and Accuracy in dictionaries\n",
    "mse_dict[\"Random Forest Classifier (n_estimators=10)\"] = mse_rfc10_dev;\n",
    "accuracy_dict[\"Random Forest Classifier (n_estimators=10)\"] = accuracy_rfc10_dev;\n",
    "\n",
    "end_time = time.time()\n",
    "print(\"runtime: %s sec\" % (end_time - start_time))"
   ],
   "metadata": {
    "collapsed": false,
    "pycharm": {
     "name": "#%%\n"
    }
   }
  },
  {
   "cell_type": "code",
   "execution_count": 190,
   "outputs": [
    {
     "data": {
      "text/plain": "[('Multinomial Naive Bayes', 49.7),\n ('Linear SVC (C=100)', 49.64),\n ('Linear SVC (C=1000)', 49.480000000000004),\n ('Random Forest Classifier (n_estimators=10)', 49.4),\n ('Linear SVC (C=1)', 49.32)]"
     },
     "execution_count": 190,
     "metadata": {},
     "output_type": "execute_result"
    }
   ],
   "source": [
    "mse_dict_list = sorted(mse_dict.items(), key=operator.itemgetter(1), reverse=False)\n",
    "accuracy_dict_list = sorted(accuracy_dict.items(), key=operator.itemgetter(1), reverse=True)\n",
    "accuracy_dict_list"
   ],
   "metadata": {
    "collapsed": false,
    "pycharm": {
     "name": "#%%\n"
    }
   }
  },
  {
   "cell_type": "code",
   "execution_count": 191,
   "outputs": [
    {
     "data": {
      "text/plain": "[(0.0, 51.7)]"
     },
     "execution_count": 191,
     "metadata": {},
     "output_type": "execute_result"
    },
    {
     "data": {
      "text/plain": "<Figure size 504x360 with 1 Axes>",
      "image/png": "[encoded data removed]"
     },
     "metadata": {
      "needs_background": "light"
     },
     "output_type": "display_data"
    }
   ],
   "source": [
    "graph_accuracy_list = [item[1] for item in accuracy_dict_list]\n",
    "graph_classifier_list = [item[0] for item in mse_dict_list]\n",
    "graph_mse_list = [item[1] for item in mse_dict_list]\n",
    "\n",
    "minY = 0;\n",
    "maxY = max(graph_accuracy_list)\n",
    "\n",
    "df = pd.DataFrame({'Accuracy': graph_accuracy_list}, index=graph_classifier_list)\n",
    "ax = df.plot(figsize=(7,5), kind='bar', stacked=True)\n",
    "\n",
    "ax. set(xlabel=\"Classifiers used\", ylabel=\"Accuracy\")\n",
    "\n",
    "ax.set(ylim=[minY, maxY+2])"
   ],
   "metadata": {
    "collapsed": false,
    "pycharm": {
     "name": "#%%\n"
    }
   }
  },
  {
   "cell_type": "code",
   "execution_count": 192,
   "outputs": [
    {
     "name": "stdout",
     "output_type": "stream",
     "text": [
      "Best Classifier considering highest accuracy: ('Multinomial Naive Bayes', 49.7)\n"
     ]
    }
   ],
   "source": [
    "highest_accuracy_classifier = accuracy_dict_list[0]\n",
    "print(\"Best Classifier considering highest accuracy:\", highest_accuracy_classifier)"
   ],
   "metadata": {
    "collapsed": false,
    "pycharm": {
     "name": "#%%\n"
    }
   }
  },
  {
   "cell_type": "code",
   "execution_count": 193,
   "outputs": [
    {
     "name": "stdout",
     "output_type": "stream",
     "text": [
      "MultinomialNB(alpha=1)\n"
     ]
    }
   ],
   "source": [
    "best_classifier_name = accuracy_dict_list[0][0]\n",
    "bestClassifier = classifier_dict.get(best_classifier_name)\n",
    "print(bestClassifier)\n",
    "\n"
   ],
   "metadata": {
    "collapsed": false,
    "pycharm": {
     "name": "#%%\n"
    }
   }
  },
  {
   "cell_type": "code",
   "execution_count": 194,
   "outputs": [
    {
     "name": "stdout",
     "output_type": "stream",
     "text": [
      "Using Best Classifier:\n",
      "\n",
      "Accuracy: 85.24000000000001\n"
     ]
    }
   ],
   "source": [
    "y_pred_test = bestClassifier.predict(X_test)\n",
    "accuracy_test = accuracy_score(y_test, y_pred_test)*100\n",
    "print(\"Using Best Classifier:\\n\")\n",
    "print('Accuracy:', accuracy_test)"
   ],
   "metadata": {
    "collapsed": false,
    "pycharm": {
     "name": "#%%\n"
    }
   }
  },
  {
   "cell_type": "code",
   "execution_count": null,
   "outputs": [
    {
     "name": "stdout",
     "output_type": "stream",
     "text": [
      "too bad a movie\n",
      "review:  0\n",
      "Negative\n",
      "amazing movie it is\n",
      "review:  1\n",
      "positive review\n"
     ]
    }
   ],
   "source": [
    "def rate():\n",
    "    input_review = t.get()\n",
    "    output.delete(\"all\")\n",
    "    print(input_review)\n",
    "    mcom = {'text': [input_review]}\n",
    "    mdf = pd.DataFrame(mcom, columns = ['text'])\n",
    "    X_single = tfidfconverter.transform(mdf['text'])\n",
    "    y_single = bestClassifier.predict(X_single)\n",
    "    print(\"review: \", y_single[0])\n",
    "    if y_single == 1:\n",
    "        print('positive review')\n",
    "        output.create_text(50,10, text=\"positive review\")\n",
    "    else:\n",
    "        print('Negative')\n",
    "        output.create_text(50,10, text=\"negative review\")\n",
    "\n",
    "root = tk.Tk()\n",
    "root.geometry(\"500x250\")\n",
    "root.title(\"GUI\")\n",
    "root.configure(bg='black')\n",
    "\n",
    "label2 = tk.Label(root, text= \"Enter a review about the last movie you watched:\", font= ('Helvetica 12 '))\n",
    "label2.place(x=80 , y=70)\n",
    "\n",
    "t = Entry(root)\n",
    "t.place(x=85, y=120)\n",
    "\n",
    "output = tk.Canvas(width=\"200\", height=150)\n",
    "output.place(x=50, y=200)\n",
    "\n",
    "b = tk.Button(root, text=\"Search\", command=rate)\n",
    "b.place(x=220, y=160)\n",
    "\n",
    "Label(root, text=\"Result : \", font=('Helvetica 10 ')).place(x=100, y=170)\n",
    "\n",
    "display_canvas2 = tk.Canvas(root, bg=\"white\", width=100, height=20)\n",
    "display_canvas2.place(x=80, y=240)\n",
    "\n",
    "\n",
    "\n",
    "root.mainloop()"
   ],
   "metadata": {
    "collapsed": false,
    "pycharm": {
     "name": "#%%\n",
     "is_executing": true
    }
   }
  },
  {
   "cell_type": "code",
   "execution_count": 195,
   "outputs": [],
   "source": [],
   "metadata": {
    "collapsed": false,
    "pycharm": {
     "name": "#%%\n"
    }
   }
  }
 ],
 "metadata": {
  "kernelspec": {
   "display_name": "Python 3",
   "language": "python",
   "name": "python3"
  },
  "language_info": {
   "codemirror_mode": {
    "name": "ipython",
    "version": 2
   },
   "file_extension": ".py",
   "mimetype": "text/x-python",
   "name": "python",
   "nbconvert_exporter": "python",
   "pygments_lexer": "ipython2",
   "version": "2.7.6"
  }
 },
 "nbformat": 4,
 "nbformat_minor": 0
}